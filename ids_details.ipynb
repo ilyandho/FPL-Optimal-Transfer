{
 "cells": [
  {
   "cell_type": "code",
   "execution_count": null,
   "metadata": {},
   "outputs": [],
   "source": [
    "import pandas as pd\n",
    "\n",
    "player_info = pd.read_csv('./content/player_info_all_pages.csv')\n",
    "\n",
    "# Select the ids\n",
    "player_info_ids = player_info['Team_id']"
   ]
  },
  {
   "cell_type": "code",
   "execution_count": null,
   "metadata": {},
   "outputs": [],
   "source": [
    "manager_picks = []\n",
    "for id_ in player_info_ids:\n",
    "    print('Starting to work on ', id_)\n",
    "    picks = []\n",
    "\n",
    "    # For each id, the details for all the 38 weeks\n",
    "    for gw in range(1, 39):\n",
    "        try:\n",
    "            gw_picks = requests.get(\n",
    "                base_url + \"entry/\" + str(id_) + \"/event/\" + str(gw) + \"/picks/\").json()\n",
    "            picks.append({gw: gw_picks})\n",
    "        except requests.exceptions.JSONDecodeError as jsonerror:\n",
    "            print(\"JSONEconding Error: \", jsonerror,\n",
    "                  \", \", gw, '=========> ', id_)\n",
    "        except requests.exceptions.HTTPError as errh:\n",
    "            print(\"Http Error:\", errh)\n",
    "        except requests.exceptions.ConnectionError as errc:\n",
    "            print(\"Error Connecting:\", errc)\n",
    "        except requests.exceptions.Timeout as errt:\n",
    "            print(\"Timeout Error:\", errt)\n",
    "        except requests.exceptions.RequestException as err:\n",
    "            print(\"OOps: Something Else\", err)\n",
    "\n",
    "    # Append the manager league details to a json file\n",
    "    data_file_contents = []\n",
    "    with open(\"./content/players_hist.json\") as data_file:\n",
    "        data_file_contents = json.load(data_file)\n",
    "\n",
    "    # # parsed_json = json.loads(file_contents)\n",
    "    with open(\"./content/players_hist.json\", mode='w',  encoding='utf-8') as f:\n",
    "        data_file_contents.append({id_: picks})\n",
    "        json.dump(data_file_contents, f)\n",
    "\n",
    "    print('Finished working on ', id_)"
   ]
  }
 ],
 "metadata": {
  "language_info": {
   "name": "python"
  }
 },
 "nbformat": 4,
 "nbformat_minor": 2
}
