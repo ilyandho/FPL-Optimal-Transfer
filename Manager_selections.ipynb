{
  "cells": [
    {
      "cell_type": "markdown",
      "metadata": {
        "id": "view-in-github",
        "colab_type": "text"
      },
      "source": [
        "<a href=\"https://colab.research.google.com/github/ilyandho/FPL-Optimal-Transfer/blob/main/Manager_selections.ipynb\" target=\"_parent\"><img src=\"https://colab.research.google.com/assets/colab-badge.svg\" alt=\"Open In Colab\"/></a>"
      ]
    },
    {
      "cell_type": "code",
      "execution_count": null,
      "metadata": {
        "id": "HkHguHtmqRK0"
      },
      "outputs": [],
      "source": [
        "import requests\n",
        "import json\n",
        "import pandas as pd\n",
        "import math\n",
        "\n",
        "base_url = 'https://fantasy.premierleague.com/api/'\n",
        "\n",
        "\n",
        "def get_transfers(league):\n",
        "    # Get manager details\n",
        "    general_info = requests.get(base_url + \"leagues-h2h-matches/league/\" + str(league) + \"/\").json()\n",
        "\n",
        "    # For each manager id, get the the details\n",
        "    # for id_ in manager_ids:\n",
        "    manager_details_ = [{\"manager_id\": manager['entry_1_entry'], \"player_name\": manager['entry_1_player_name'],\n",
        "                         \"name\": manager['entry_1_name']} for manager in general_info['results']]\n",
        "    manager_details = list(\n",
        "        {manager['manager_id']: manager for manager in manager_details_}.values())\n",
        "\n",
        "    # For each manager, get their pick history\n",
        "    manager_picks = []\n",
        "    for manager in manager_details:\n",
        "        # For leagues with teams, a virtual manager is include.\n",
        "        # Check if a manager_id is 'None' and skip that manager\n",
        "        if (manager['manager_id'] == None):\n",
        "            continue\n",
        "\n",
        "        picks = []\n",
        "        for gw in range(1, 39):\n",
        "            try:\n",
        "                gw_picks = requests.get(base_url + \"entry/\" + str(manager['manager_id']) + \"/event/\" + str(gw) + \"/picks/\").json()\n",
        "            except requests.exceptions.JSONDecodeError as jsonerror:\n",
        "                print(\"JSONEconding Error: \", jsonerror, \", \",\n",
        "                      gw, '=========> ', manager['manager_id'])\n",
        "            except requests.exceptions.HTTPError as errh:\n",
        "                print(\"Http Error:\", errh)\n",
        "            except requests.exceptions.ConnectionError as errc:\n",
        "                print(\"Error Connecting:\", errc)\n",
        "            except requests.exceptions.Timeout as errt:\n",
        "                print(\"Timeout Error:\", errt)\n",
        "            except requests.exceptions.RequestException as err:\n",
        "                print(\"OOps: Something Else\", err)\n",
        "\n",
        "        picks = []\n",
        "        for gw in range(1, 39):\n",
        "            gw_picks = requests.get(base_url + \"entry/\" + str(manager['manager_id']) + \"/event/\" + str(gw) + \"/picks/\").json()\n",
        "            picks.append({gw: gw_picks})\n",
        "        manager_picks.append({manager['manager_id']: picks})\n",
        "\n",
        "    return {league: manager_picks}"
      ]
    },
    {
      "cell_type": "code",
      "execution_count": null,
      "metadata": {
        "colab": {
          "background_save": true
        },
        "id": "Chgy8m4FdDEL",
        "outputId": "0f1be4c7-4173-4f20-bf50-0b00f7cb9beb"
      },
      "outputs": [
        {
          "name": "stdout",
          "output_type": "stream",
          "text": [
            "leagues collected\n"
          ]
        },
        {
          "data": {
            "text/plain": [
              "105"
            ]
          },
          "execution_count": 3,
          "metadata": {},
          "output_type": "execute_result"
        }
      ],
      "source": [
        "# Get league ids between 2123000 and 2123881\n",
        "league_ids = []\n",
        "for i in range( 2128133 , 2129001): #2126442,\n",
        "    general_info = requests.get(\n",
        "        base_url + \"leagues-h2h-matches/league/\" + str(i) + \"/\").json()\n",
        "    # Check if the response contains a results list and it is not empty\n",
        "    if ('results' in general_info and general_info['results']):\n",
        "        league_ids.append(i)\n",
        "print('leagues collected')\n",
        "# league_history = [get_transfers(league) for league in league_ids]\n",
        "len(league_ids)"
      ]
    },
    {
      "cell_type": "code",
      "execution_count": null,
      "metadata": {
        "colab": {
          "background_save": true
        },
        "id": "x8o9hW-Nd204",
        "outputId": "797895ff-aaf5-4662-eac0-4d3f31f759e8"
      },
      "outputs": [
        {
          "name": "stdout",
          "output_type": "stream",
          "text": [
            "==> Fetching league transfer details for  2128332\n",
            "<== Completed fetching league transfer details for  2128332\n",
            "2128332 ::::::::::: 1.2 %  done\n",
            "==> Fetching league transfer details for  2128334\n",
            "<== Completed fetching league transfer details for  2128334\n",
            "2128334 ::::::::::: 2.4 %  done\n",
            "==> Fetching league transfer details for  2128347\n",
            "<== Completed fetching league transfer details for  2128347\n",
            "2128347 ::::::::::: 3.7 %  done\n",
            "==> Fetching league transfer details for  2128356\n",
            "<== Completed fetching league transfer details for  2128356\n",
            "2128356 ::::::::::: 4.9 %  done\n",
            "==> Fetching league transfer details for  2128365\n",
            "<== Completed fetching league transfer details for  2128365\n",
            "2128365 ::::::::::: 6.1 %  done\n",
            "==> Fetching league transfer details for  2128366\n",
            "<== Completed fetching league transfer details for  2128366\n",
            "2128366 ::::::::::: 7.3 %  done\n",
            "==> Fetching league transfer details for  2128384\n",
            "<== Completed fetching league transfer details for  2128384\n",
            "2128384 ::::::::::: 8.5 %  done\n",
            "==> Fetching league transfer details for  2128409\n",
            "<== Completed fetching league transfer details for  2128409\n",
            "2128409 ::::::::::: 9.8 %  done\n",
            "==> Fetching league transfer details for  2128423\n",
            "<== Completed fetching league transfer details for  2128423\n",
            "2128423 ::::::::::: 11.0 %  done\n",
            "==> Fetching league transfer details for  2128438\n",
            "<== Completed fetching league transfer details for  2128438\n",
            "2128438 ::::::::::: 12.2 %  done\n",
            "==> Fetching league transfer details for  2128441\n",
            "<== Completed fetching league transfer details for  2128441\n",
            "2128441 ::::::::::: 13.4 %  done\n",
            "==> Fetching league transfer details for  2128444\n",
            "<== Completed fetching league transfer details for  2128444\n",
            "2128444 ::::::::::: 14.6 %  done\n",
            "==> Fetching league transfer details for  2128455\n",
            "<== Completed fetching league transfer details for  2128455\n",
            "2128455 ::::::::::: 15.9 %  done\n",
            "==> Fetching league transfer details for  2128462\n",
            "<== Completed fetching league transfer details for  2128462\n",
            "2128462 ::::::::::: 17.1 %  done\n",
            "==> Fetching league transfer details for  2128463\n",
            "<== Completed fetching league transfer details for  2128463\n",
            "2128463 ::::::::::: 18.3 %  done\n",
            "==> Fetching league transfer details for  2128474\n",
            "<== Completed fetching league transfer details for  2128474\n",
            "2128474 ::::::::::: 19.5 %  done\n",
            "==> Fetching league transfer details for  2128483\n",
            "<== Completed fetching league transfer details for  2128483\n",
            "2128483 ::::::::::: 20.7 %  done\n",
            "==> Fetching league transfer details for  2128494\n",
            "<== Completed fetching league transfer details for  2128494\n",
            "2128494 ::::::::::: 22.0 %  done\n",
            "==> Fetching league transfer details for  2128506\n",
            "<== Completed fetching league transfer details for  2128506\n",
            "2128506 ::::::::::: 23.2 %  done\n",
            "==> Fetching league transfer details for  2128516\n",
            "<== Completed fetching league transfer details for  2128516\n",
            "2128516 ::::::::::: 24.4 %  done\n",
            "==> Fetching league transfer details for  2128518\n",
            "<== Completed fetching league transfer details for  2128518\n",
            "2128518 ::::::::::: 25.6 %  done\n",
            "==> Fetching league transfer details for  2128520\n",
            "<== Completed fetching league transfer details for  2128520\n",
            "2128520 ::::::::::: 26.8 %  done\n",
            "==> Fetching league transfer details for  2128522\n",
            "<== Completed fetching league transfer details for  2128522\n",
            "2128522 ::::::::::: 28.0 %  done\n",
            "==> Fetching league transfer details for  2128549\n",
            "<== Completed fetching league transfer details for  2128549\n",
            "2128549 ::::::::::: 29.3 %  done\n",
            "==> Fetching league transfer details for  2128560\n",
            "<== Completed fetching league transfer details for  2128560\n",
            "2128560 ::::::::::: 30.5 %  done\n",
            "==> Fetching league transfer details for  2128579\n",
            "<== Completed fetching league transfer details for  2128579\n",
            "2128579 ::::::::::: 31.7 %  done\n",
            "==> Fetching league transfer details for  2128581\n",
            "<== Completed fetching league transfer details for  2128581\n",
            "2128581 ::::::::::: 32.9 %  done\n",
            "==> Fetching league transfer details for  2128594\n",
            "<== Completed fetching league transfer details for  2128594\n",
            "2128594 ::::::::::: 34.1 %  done\n",
            "==> Fetching league transfer details for  2128598\n",
            "<== Completed fetching league transfer details for  2128598\n",
            "2128598 ::::::::::: 35.4 %  done\n",
            "==> Fetching league transfer details for  2128603\n",
            "<== Completed fetching league transfer details for  2128603\n",
            "2128603 ::::::::::: 36.6 %  done\n",
            "==> Fetching league transfer details for  2128613\n",
            "<== Completed fetching league transfer details for  2128613\n",
            "2128613 ::::::::::: 37.8 %  done\n",
            "==> Fetching league transfer details for  2128614\n",
            "<== Completed fetching league transfer details for  2128614\n",
            "2128614 ::::::::::: 39.0 %  done\n",
            "==> Fetching league transfer details for  2128628\n",
            "<== Completed fetching league transfer details for  2128628\n",
            "2128628 ::::::::::: 40.2 %  done\n",
            "==> Fetching league transfer details for  2128642\n",
            "<== Completed fetching league transfer details for  2128642\n",
            "2128642 ::::::::::: 41.5 %  done\n",
            "==> Fetching league transfer details for  2128648\n",
            "<== Completed fetching league transfer details for  2128648\n",
            "2128648 ::::::::::: 42.7 %  done\n",
            "==> Fetching league transfer details for  2128655\n",
            "<== Completed fetching league transfer details for  2128655\n",
            "2128655 ::::::::::: 43.9 %  done\n",
            "==> Fetching league transfer details for  2128659\n",
            "<== Completed fetching league transfer details for  2128659\n",
            "2128659 ::::::::::: 45.1 %  done\n",
            "==> Fetching league transfer details for  2128669\n",
            "<== Completed fetching league transfer details for  2128669\n",
            "2128669 ::::::::::: 46.3 %  done\n",
            "==> Fetching league transfer details for  2128670\n",
            "<== Completed fetching league transfer details for  2128670\n",
            "2128670 ::::::::::: 47.6 %  done\n",
            "==> Fetching league transfer details for  2128671\n",
            "<== Completed fetching league transfer details for  2128671\n",
            "2128671 ::::::::::: 48.8 %  done\n",
            "==> Fetching league transfer details for  2128672\n",
            "<== Completed fetching league transfer details for  2128672\n",
            "2128672 ::::::::::: 50.0 %  done\n",
            "==> Fetching league transfer details for  2128693\n",
            "<== Completed fetching league transfer details for  2128693\n",
            "2128693 ::::::::::: 51.2 %  done\n",
            "==> Fetching league transfer details for  2128703\n",
            "<== Completed fetching league transfer details for  2128703\n",
            "2128703 ::::::::::: 52.4 %  done\n",
            "==> Fetching league transfer details for  2128709\n",
            "<== Completed fetching league transfer details for  2128709\n",
            "2128709 ::::::::::: 53.7 %  done\n",
            "==> Fetching league transfer details for  2128711\n",
            "<== Completed fetching league transfer details for  2128711\n",
            "2128711 ::::::::::: 54.9 %  done\n",
            "==> Fetching league transfer details for  2128715\n"
          ]
        }
      ],
      "source": [
        "for league in league_ids:\n",
        "    print('==> Fetching league transfer details for ', league)\n",
        "    leagues_transfer_details = get_transfers(league)\n",
        "\n",
        "    print('<== Completed fetching league transfer details for ', league)\n",
        "    # Append the manager league details to a json file\n",
        "    data_file_contents = []\n",
        "    with open(\"/content/drive/MyDrive/Colab Notebooks/h2h_league_picks_6.json\") as data_file:\n",
        "        data_file_contents = json.load(data_file)\n",
        "\n",
        "    # # parsed_json = json.loads(file_contents)\n",
        "    with open(\"/content/drive/MyDrive/Colab Notebooks/h2h_league_picks_6.json\", mode='w',  encoding='utf-8') as f:\n",
        "        data_file_contents.append(leagues_transfer_details)\n",
        "        json.dump(data_file_contents, f)\n",
        "\n",
        "    # Log some details to show progress\n",
        "    print(league, ':::::::::::',  round((league_ids.index(league)+1)/len(league_ids)*100, 1), \"%\", \" done\")\n"
      ]
    },
    {
      "cell_type": "code",
      "source": [
        "import pandas as pd\n",
        "import random\n",
        "\n",
        "# Example: Simulating data for 3 managers and 2 weeks\n",
        "managers = ['M1', 'M2', 'M3']\n",
        "players_pool = [f'Player_{i}' for i in range(1, 801)]  # 800 players\n",
        "\n",
        "# Function to randomly select players for a manager\n",
        "def select_players(num_players=11):\n",
        "    return tuple(random.sample(players_pool, num_players))\n",
        "\n",
        "# Creating initial weekly selections\n",
        "data = {'manager_id': managers}\n",
        "for week in range(1, 3):  # Starting with 2 weeks\n",
        "    data[f'week_{week}'] = [select_players() for _ in managers]\n",
        "\n",
        "# Converting to DataFrame\n",
        "df = pd.DataFrame(data)\n",
        "\n",
        "# Displaying the initial DataFrame\n",
        "print(df)"
      ],
      "metadata": {
        "colab": {
          "base_uri": "https://localhost:8080/"
        },
        "id": "SQHAeTjY4CNg",
        "outputId": "49354cf0-cb2f-4ebb-d8de-7653b0656e71"
      },
      "execution_count": 14,
      "outputs": [
        {
          "output_type": "stream",
          "name": "stdout",
          "text": [
            "  manager_id                                             week_1  \\\n",
            "0         M1  (Player_671, Player_680, Player_141, Player_11...   \n",
            "1         M2  (Player_720, Player_34, Player_248, Player_743...   \n",
            "2         M3  (Player_529, Player_765, Player_369, Player_51...   \n",
            "\n",
            "                                              week_2  \n",
            "0  (Player_62, Player_471, Player_264, Player_67,...  \n",
            "1  (Player_598, Player_582, Player_37, Player_443...  \n",
            "2  (Player_137, Player_581, Player_377, Player_32...  \n"
          ]
        }
      ]
    },
    {
      "cell_type": "code",
      "source": [
        "select_players()"
      ],
      "metadata": {
        "colab": {
          "base_uri": "https://localhost:8080/"
        },
        "id": "GDVM6RQ0Bhm2",
        "outputId": "f08ac8c2-d0e0-42a9-9ecf-e7655e5b8998"
      },
      "execution_count": 15,
      "outputs": [
        {
          "output_type": "execute_result",
          "data": {
            "text/plain": [
              "('Player_678',\n",
              " 'Player_724',\n",
              " 'Player_228',\n",
              " 'Player_453',\n",
              " 'Player_370',\n",
              " 'Player_40',\n",
              " 'Player_536',\n",
              " 'Player_368',\n",
              " 'Player_308',\n",
              " 'Player_384',\n",
              " 'Player_670')"
            ]
          },
          "metadata": {},
          "execution_count": 15
        }
      ]
    }
  ],
  "metadata": {
    "colab": {
      "provenance": [],
      "mount_file_id": "1D-3e7w_QWAB5R5eEqHw5PM_JJHfYApf8",
      "authorship_tag": "ABX9TyOBRst+GPUyIbR1oRlHJIhN",
      "include_colab_link": true
    },
    "kernelspec": {
      "display_name": "Python 3",
      "name": "python3"
    },
    "language_info": {
      "name": "python"
    }
  },
  "nbformat": 4,
  "nbformat_minor": 0
}