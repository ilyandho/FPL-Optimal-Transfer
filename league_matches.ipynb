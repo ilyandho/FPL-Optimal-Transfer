{
 "cells": [
  {
   "cell_type": "code",
   "execution_count": 9,
   "metadata": {},
   "outputs": [
    {
     "data": {
      "text/plain": [
       "0      2123002\n",
       "1      2123013\n",
       "2      2123014\n",
       "3      2123021\n",
       "4      2123034\n",
       "        ...   \n",
       "862    2128978\n",
       "863    2128983\n",
       "864    2128987\n",
       "865    2128992\n",
       "866    2128996\n",
       "Name: 0, Length: 867, dtype: int64"
      ]
     },
     "execution_count": 9,
     "metadata": {},
     "output_type": "execute_result"
    }
   ],
   "source": [
    "\n",
    "# Match history: https://fantasy.premierleague.com/api/leagues-h2h-matches/league/2123833/?page=1&event=38\n",
    "\n",
    "import pandas as pd\n",
    "import requests\n",
    "import json\n",
    "\n",
    "base_url = 'https://fantasy.premierleague.com/api/'\n",
    "\n",
    "league_ids = pd.read_csv('./content/league_ids.csv')['0']\n",
    "league_ids"
   ]
  },
  {
   "cell_type": "code",
   "execution_count": 37,
   "metadata": {},
   "outputs": [
    {
     "data": {
      "text/plain": [
       "2128237"
      ]
     },
     "execution_count": 37,
     "metadata": {},
     "output_type": "execute_result"
    }
   ],
   "source": [
    "league_ids[774]"
   ]
  },
  {
   "cell_type": "code",
   "execution_count": 38,
   "metadata": {},
   "outputs": [
    {
     "name": "stdout",
     "output_type": "stream",
     "text": [
      ":=====================>>> Starting league  2128240\n",
      "<<<=====================: Finished league 2128240\n",
      ":=====================>>> Starting league  2128242\n",
      "<<<=====================: Finished league 2128242\n",
      ":=====================>>> Starting league  2128251\n",
      "<<<=====================: Finished league 2128251\n",
      ":=====================>>> Starting league  2128262\n",
      "<<<=====================: Finished league 2128262\n",
      ":=====================>>> Starting league  2128280\n",
      "<<<=====================: Finished league 2128280\n",
      ":=====================>>> Starting league  2128282\n",
      "<<<=====================: Finished league 2128282\n",
      ":=====================>>> Starting league  2128287\n",
      "<<<=====================: Finished league 2128287\n",
      ":=====================>>> Starting league  2128314\n",
      "<<<=====================: Finished league 2128314\n",
      ":=====================>>> Starting league  2128318\n",
      "<<<=====================: Finished league 2128318\n",
      ":=====================>>> Starting league  2128332\n",
      "<<<=====================: Finished league 2128332\n",
      ":=====================>>> Starting league  2128334\n",
      "<<<=====================: Finished league 2128334\n",
      ":=====================>>> Starting league  2128347\n",
      "<<<=====================: Finished league 2128347\n",
      ":=====================>>> Starting league  2128356\n",
      "<<<=====================: Finished league 2128356\n",
      ":=====================>>> Starting league  2128365\n",
      "<<<=====================: Finished league 2128365\n",
      ":=====================>>> Starting league  2128366\n",
      "<<<=====================: Finished league 2128366\n",
      ":=====================>>> Starting league  2128384\n",
      "<<<=====================: Finished league 2128384\n",
      ":=====================>>> Starting league  2128409\n",
      "<<<=====================: Finished league 2128409\n",
      ":=====================>>> Starting league  2128423\n",
      "<<<=====================: Finished league 2128423\n",
      ":=====================>>> Starting league  2128438\n",
      "<<<=====================: Finished league 2128438\n",
      ":=====================>>> Starting league  2128441\n",
      "<<<=====================: Finished league 2128441\n",
      ":=====================>>> Starting league  2128444\n",
      "<<<=====================: Finished league 2128444\n",
      ":=====================>>> Starting league  2128455\n",
      "<<<=====================: Finished league 2128455\n",
      ":=====================>>> Starting league  2128462\n",
      "<<<=====================: Finished league 2128462\n",
      ":=====================>>> Starting league  2128463\n"
     ]
    }
   ],
   "source": [
    "\n",
    "for id_ in league_ids[776:800]:\n",
    "    print(':=====================>>> Starting league ', id_)\n",
    "    matches = []\n",
    "    for gw in range(1, 39):\n",
    "        gw_matches = []\n",
    "        general_info = requests.get(\n",
    "            base_url + \"leagues-h2h-matches/league/\" + str(id_) + \"/?page=1&event=\"+str(gw)).json()\n",
    "        gw_matches.extend(general_info['results'])\n",
    "        i = 2\n",
    "\n",
    "        while (general_info['has_next']):\n",
    "            print(i, '========>', general_info)\n",
    "            general_info = requests.get(base_url + \"leagues-h2h-matches/league/\" + str(\n",
    "                id_) + \"/?page=\"+str(i)+\"&event=\" + str(gw)).json()\n",
    "            gw_matches.extend(general_info['results'])\n",
    "            i += 1\n",
    "        matches.append({gw: gw_matches})\n",
    "\n",
    "    league_matches = []\n",
    "    with open(\"./content/league_matches/league_matches_4.json\") as data_file:\n",
    "        league_matches = json.load(data_file)\n",
    "\n",
    "    with open(\"./content/league_matches/league_matches_4.json\", mode='w',  encoding='utf-8') as f:\n",
    "        league_matches.append({id_: matches})\n",
    "        json.dump(league_matches, f)\n",
    "\n",
    "    print('<<<=====================: Finished league', id_)\n",
    "print(league_matches)"
   ]
  }
 ],
 "metadata": {
  "kernelspec": {
   "display_name": "FPL",
   "language": "python",
   "name": "python3"
  },
  "language_info": {
   "codemirror_mode": {
    "name": "ipython",
    "version": 3
   },
   "file_extension": ".py",
   "mimetype": "text/x-python",
   "name": "python",
   "nbconvert_exporter": "python",
   "pygments_lexer": "ipython3",
   "version": "3.11.7"
  }
 },
 "nbformat": 4,
 "nbformat_minor": 2
}
