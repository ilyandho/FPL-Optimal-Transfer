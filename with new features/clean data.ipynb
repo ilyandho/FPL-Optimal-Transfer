{
 "cells": [
  {
   "cell_type": "code",
   "execution_count": 106,
   "metadata": {},
   "outputs": [],
   "source": [
    "import pandas as pd\n",
    "import os\n",
    "from thefuzz import fuzz, process\n",
    "import unicodedata"
   ]
  },
  {
   "cell_type": "markdown",
   "metadata": {},
   "source": [
    "## Util functions\n"
   ]
  },
  {
   "cell_type": "markdown",
   "metadata": {},
   "source": [
    "### Seasons with id_dict\n"
   ]
  },
  {
   "cell_type": "code",
   "execution_count": 107,
   "metadata": {},
   "outputs": [],
   "source": [
    "def save_fpl_players(fpl_subfolders, season):\n",
    "    for folder in fpl_subfolders:\n",
    "        player_name = folder.split('/')[4].split('_')\n",
    "        clean_player_name = \" \".join(player_name[0:-1])\n",
    "        player_df = pd.read_csv(str(folder+'/gw.csv'))\n",
    "\n",
    "        player_dir = './data/joint/'+str(season)+'/fpl/'\n",
    "         # Check if player_dir exists\n",
    "        if not os.path.exists(player_dir):\n",
    "            os.makedirs(player_dir)\n",
    "        player_df.to_csv(player_dir + str(clean_player_name) + '.csv', index_label=False)\n",
    "\n",
    "    print('successfully cleaned 20'+ season +' fpl data')\n",
    "\n",
    "# Understat Files\n",
    "def save_under_players(understat_files, season):\n",
    "    for file_ in understat_files:\n",
    "        player_name = file_.split('/')[4].split('_')\n",
    "        clean_player_name = \" \".join(player_name[0:-1])\n",
    "        player_df = pd.read_csv(str(file_))\n",
    "\n",
    "        player_dir = './data/joint/'+str(season)+'/understat/'\n",
    "        # Check if player_dir exists\n",
    "        if not os.path.exists(player_dir):\n",
    "            os.makedirs(player_dir)\n",
    "        player_df.to_csv(player_dir + str(clean_player_name) + '.csv', index_label=False)\n",
    "\n",
    "    print('successfully cleaned understat 20'+ season +' data')\n",
    "\n",
    "def joint_players_info(fpl_player_folder_path, understat_player_folder_path, season):\n",
    "    fpl_subfolders = [ f.path for f in os.scandir(fpl_player_folder_path) if f.is_dir() ]\n",
    "    under_files = [ f.path for f in os.scandir(understat_player_folder_path) if f.is_file() ]\n",
    "\n",
    "    save_fpl_players(fpl_subfolders, season)\n",
    "    save_under_players(under_files, season)\n",
    "\n",
    "    print('20'+ season +' fpl and understat data now in `joint` folder')\n",
    "\n"
   ]
  },
  {
   "cell_type": "code",
   "execution_count": 108,
   "metadata": {},
   "outputs": [],
   "source": [
    "def merge_fpl_understat_data(fpl_player_folder_path, understat_player_folder_path, season):\n",
    "    joint_players_info(fpl_player_folder_path, understat_player_folder_path, season)\n",
    "\n",
    "    joint_fpl_data_path = \"./data/joint/\"+ season + \"/fpl/\"\n",
    "    joint_understat_path = \"./data/joint/\"+ season + \"/understat/\"\n",
    "\n",
    "    understat_files= next(os.walk(\"./data/joint/\"+ season + \"/understat/\"), (None, None, []))[2]  # [] if no file\n",
    "    fpl_files = next(os.walk( \"./data/joint/\"+ season +\"/fpl\"), (None, None, []))[2]  # [] if no file\n",
    "    player_ids = pd.read_csv('./data/20'+ season +'/id_dict.csv')\n",
    "\n",
    "    understat_names = [file_.split('.')[0] for file_ in understat_files]\n",
    "    fpl_names = [file_.split('.')[0] for file_ in fpl_files]\n",
    "\n",
    "    for name in understat_names:\n",
    "        # print(name)\n",
    "        player_index = player_ids.index[player_ids['Understat_Name'] == name].tolist()\n",
    "\n",
    "        if(player_index):\n",
    "            indexed_fpl_name = player_ids.loc[player_index[0], 'FPL_Name']\n",
    "\n",
    "            if(indexed_fpl_name):\n",
    "                # Use Fuzzy matching get the corresponding fpl name\n",
    "                fuzzy_fpl_player_name = process.extractOne(indexed_fpl_name, fpl_names, scorer=fuzz.partial_token_sort_ratio)\n",
    "\n",
    "                fpl_player_data = pd.read_csv(joint_fpl_data_path + str(fuzzy_fpl_player_name[0])+ '.csv')\n",
    "                understat_player_data = pd.read_csv(joint_understat_path + name + '.csv')\n",
    "\n",
    "                # Change 'kickoff_time' column name to 'date\n",
    "                fpl_player_data = fpl_player_data.rename(columns={'kickoff_time': 'date'})\n",
    "                # change the formats: From 2021-10-03T13:00:00Z to 2021-10-03\n",
    "                fpl_player_data.date = fpl_player_data.date.apply(lambda x: x.split('T')[0])\n",
    "\n",
    "                # Dates are of the form 2021-10-03T13:00:00Z\n",
    "                fpl_dates_min = fpl_player_data['date'].min()\n",
    "                fpl_dates_max = fpl_player_data['date'].max()\n",
    "\n",
    "                # Filter out player info not in the range of dates we are dealing with\n",
    "                understat_filtered = understat_player_data[(pd.to_datetime(understat_player_data['date']) > pd.to_datetime(fpl_dates_min))\n",
    "                                                            & (pd.to_datetime(understat_player_data['date']) < pd.to_datetime(fpl_dates_max) )]\n",
    "\n",
    "                # Marge fpl_player_data with understat_player_data if the dates match\n",
    "                player_data_merged = fpl_player_data.merge(understat_filtered, on=\"date\")\n",
    "                if(player_data_merged.shape[0]):\n",
    "                    merged_dir = './data/joint/'+ season +'/merged/'\n",
    "                    if not os.path.exists(merged_dir):\n",
    "                        os.makedirs(merged_dir)\n",
    "\n",
    "                    player_data_merged.to_csv(merged_dir+ indexed_fpl_name +'.csv', index_label=False )\n",
    "\n",
    "\n",
    "    print('sucessfully merged 20 '+ season +' data')"
   ]
  },
  {
   "cell_type": "code",
   "execution_count": 109,
   "metadata": {},
   "outputs": [],
   "source": [
    "def add_difficulty(season):\n",
    "    print('====> Starting to add difficulty features to 20'+season)\n",
    "    merged = './data/joint/' + season + '/merged/'\n",
    "    player_names = next(os.walk((merged), (None, None, [])))[2]\n",
    "    fixtures = pd.read_csv('./data/20' + season + '/fixtures.csv')\n",
    "\n",
    "    # for name in player_names:\n",
    "    #     player  = pd.read_csv('./data/joint/' + season + '/merged/'+ name)\n",
    "    #     new_col = {'team_h_difficulty':[], 'team_a_difficulty':[]}\n",
    "\n",
    "    #     for index, row in player.iterrows():\n",
    "    #         for idx, row_2 in fixtures.iterrows():\n",
    "    #             if row['fixture'] == row_2['id']:\n",
    "    #                 new_col['team_h_difficulty'].append(row_2['team_h_difficulty'])\n",
    "    #                 new_col['team_a_difficulty'].append(row_2['team_a_difficulty'])\n",
    "\n",
    "    #     with_new_cols = [player, pd.DataFrame(new_col)]\n",
    "    #     player_with_difficult = pd.concat(with_new_cols, axis=1)\n",
    "    #     new_col_dir = './data/joint/' + season +'/merged_extras/'\n",
    "    #     if not os.path.exists(new_col_dir):\n",
    "    #         os.makedirs(new_col_dir)\n",
    "    #     player_with_difficult.to_csv(new_col_dir + name)\n",
    "\n",
    "    # Loop over each player file in player_names\n",
    "    for name in player_names:\n",
    "        # Load player data\n",
    "        player = pd.read_csv('./data/joint/' + season + '/merged/' + name)\n",
    "\n",
    "        # Function to get the difficulty and was_home columns based on the fixture\n",
    "        def get_fixture_info(row):\n",
    "            # Filter the relevant fixture\n",
    "            fixture = fixtures[fixtures['id'] == row['fixture']]\n",
    "            if not fixture.empty:\n",
    "                fixture = fixture.iloc[0]  # Get the first (and only) match\n",
    "\n",
    "                # Get the team difficulties\n",
    "                team_h_difficulty = fixture['team_h_difficulty']\n",
    "                team_a_difficulty = fixture['team_a_difficulty']\n",
    "\n",
    "                return pd.Series([team_h_difficulty, team_a_difficulty])\n",
    "            else:\n",
    "                # Return NaN if no matching fixture found\n",
    "                return pd.Series([None, None, None])\n",
    "\n",
    "        # Apply the function to each row of player\n",
    "        player[['team_h_difficulty', 'team_a_difficulty']] = player.apply(get_fixture_info, axis=1)\n",
    "\n",
    "        # Save the updated DataFrame with the new columns\n",
    "        new_col_dir = './data/joint/' + season + '/merged_extras/'\n",
    "        if not os.path.exists(new_col_dir):\n",
    "            os.makedirs(new_col_dir)\n",
    "        player.to_csv(new_col_dir + name, index=False)\n",
    "\n",
    "    print('****> successfully added difficulty features to 20'+season)"
   ]
  },
  {
   "cell_type": "code",
   "execution_count": 110,
   "metadata": {},
   "outputs": [
    {
     "name": "stdout",
     "output_type": "stream",
     "text": [
      "successfully cleaned 2021-22 fpl data\n",
      "successfully cleaned understat 2021-22 data\n",
      "2021-22 fpl and understat data now in `joint` folder\n",
      "sucessfully merged 20 21-22 data\n",
      "successfully cleaned 2022-23 fpl data\n",
      "successfully cleaned understat 2022-23 data\n",
      "2022-23 fpl and understat data now in `joint` folder\n",
      "sucessfully merged 20 22-23 data\n",
      "successfully cleaned 2023-24 fpl data\n",
      "successfully cleaned understat 2023-24 data\n",
      "2023-24 fpl and understat data now in `joint` folder\n",
      "sucessfully merged 20 23-24 data\n"
     ]
    }
   ],
   "source": [
    "merge_fpl_understat_data(\"./data/2021-22/players/\", \"./data/2021-22/understat/\", \"21-22\")\n",
    "merge_fpl_understat_data(\"./data/2022-23/players/\", \"./data/2022-23/understat/\", \"22-23\")\n",
    "merge_fpl_understat_data(\"./data/2023-24/players/\", \"./data/2023-24/understat/\", \"23-24\")"
   ]
  },
  {
   "cell_type": "markdown",
   "metadata": {},
   "source": [
    "### Adding fixture difficulty\n"
   ]
  },
  {
   "cell_type": "code",
   "execution_count": 111,
   "metadata": {},
   "outputs": [
    {
     "name": "stdout",
     "output_type": "stream",
     "text": [
      "====> Starting to add difficulty features to 2021-22\n",
      "****> successfully added difficulty features to 2021-22\n",
      "====> Starting to add difficulty features to 2022-23\n",
      "****> successfully added difficulty features to 2022-23\n",
      "====> Starting to add difficulty features to 2023-24\n",
      "****> successfully added difficulty features to 2023-24\n"
     ]
    }
   ],
   "source": [
    "add_difficulty('21-22')\n",
    "add_difficulty('22-23')\n",
    "add_difficulty('23-24')"
   ]
  }
 ],
 "metadata": {
  "kernelspec": {
   "display_name": "FPL",
   "language": "python",
   "name": "python3"
  },
  "language_info": {
   "codemirror_mode": {
    "name": "ipython",
    "version": 3
   },
   "file_extension": ".py",
   "mimetype": "text/x-python",
   "name": "python",
   "nbconvert_exporter": "python",
   "pygments_lexer": "ipython3",
   "version": "3.11.7"
  }
 },
 "nbformat": 4,
 "nbformat_minor": 2
}
