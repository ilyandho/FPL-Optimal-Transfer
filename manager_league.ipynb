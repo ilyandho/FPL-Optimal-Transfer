{
 "cells": [
  {
   "cell_type": "code",
   "execution_count": 1,
   "metadata": {},
   "outputs": [],
   "source": [
    "import requests\n",
    "import json\n",
    "import pandas as pd\n",
    "\n",
    "base_url = 'https://fantasy.premierleague.com/api/'\n",
    "\n",
    "# manager details: https://fantasy.premierleague.com/api/entry/6124950/"
   ]
  },
  {
   "cell_type": "code",
   "execution_count": 5,
   "metadata": {},
   "outputs": [],
   "source": [
    "manager_details = requests.get(base_url + \"entry/6124950\").json()\n",
    "h2h_leagues = manager_details['leagues']['h2h']\n",
    "h2h_leagues"
   ]
  },
  {
   "cell_type": "code",
   "execution_count": 6,
   "metadata": {},
   "outputs": [
    {
     "name": "stdout",
     "output_type": "stream",
     "text": [
      "2123830\n",
      "2123833\n",
      "2123834\n"
     ]
    }
   ],
   "source": [
    "for league in h2h_leagues:\n",
    "    print(league['id'])"
   ]
  }
 ],
 "metadata": {
  "kernelspec": {
   "display_name": "FPL",
   "language": "python",
   "name": "python3"
  },
  "language_info": {
   "codemirror_mode": {
    "name": "ipython",
    "version": 3
   },
   "file_extension": ".py",
   "mimetype": "text/x-python",
   "name": "python",
   "nbconvert_exporter": "python",
   "pygments_lexer": "ipython3",
   "version": "3.11.7"
  }
 },
 "nbformat": 4,
 "nbformat_minor": 2
}
